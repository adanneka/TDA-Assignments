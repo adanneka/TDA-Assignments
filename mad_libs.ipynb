{
 "cells": [
  {
   "cell_type": "code",
   "execution_count": 3,
   "metadata": {},
   "outputs": [
    {
     "name": "stdout",
     "output_type": "stream",
     "text": [
      "David was dancing just before midnight due to some good news. The bird joined David and danced joyfully.\n",
      "David was delighted at the sight of this and continued dancing.\n"
     ]
    }
   ],
   "source": [
    "\n",
    "# User will be asked to input various words. Examples to be given to illustrate words needed for the story to make sense grammatically\n",
    "# input function outputs a string which is appropriate for this case\n",
    "\n",
    "noun  = input(\"Please enter a singular noun. (i.e. David, bird or lion)\")\n",
    "noun2 = input(\"Please enter a singular noun. (e.g. David, bird or lion)\")\n",
    "time = input(\"Please enter a time of day. (e.g. 6pm, midnight, sunrise)\")\n",
    "verb = input(\"Please enter a verb. (e.g. dancing, singing, walking)\")\n",
    "verb_past_tense = input(\"Please enter a past-tense verb. (e.g. danced, sang, walked)\")\n",
    "adverb = input(\"Please enter an adverb. (e.g. noisily, joyfully, quickly)\")\n",
    "\n",
    "# use an f-string to concatenate all variables in the correct places in the sentence. \n",
    "# print the f-string to the user, telling them the mad-lib story.\n",
    "print(f\"{noun} was {verb} just before {time} due to some good news. The {noun2} joined {noun} and {verb_past_tense} {adverb}.\")\n",
    "print(f\"{noun} was delighted at the sight of this and continued {verb}.\")"
   ]
  }
 ],
 "metadata": {
  "kernelspec": {
   "display_name": "Python 3",
   "language": "python",
   "name": "python3"
  },
  "language_info": {
   "codemirror_mode": {
    "name": "ipython",
    "version": 3
   },
   "file_extension": ".py",
   "mimetype": "text/x-python",
   "name": "python",
   "nbconvert_exporter": "python",
   "pygments_lexer": "ipython3",
   "version": "3.12.6"
  }
 },
 "nbformat": 4,
 "nbformat_minor": 2
}
