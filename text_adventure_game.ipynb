{
 "cells": [
  {
   "cell_type": "code",
   "execution_count": 4,
   "metadata": {},
   "outputs": [
    {
     "name": "stdout",
     "output_type": "stream",
     "text": [
      "You are in a room with a beautiful range of tall plants\n",
      "You have moved to the next room\n",
      "You have moved to the next room\n",
      "You are in an empty and cold red room\n",
      "You cannot move in that direction\n"
     ]
    }
   ],
   "source": [
    "# This game will let users move through rooms based on user input and get descriptions of each room\n",
    "# There are three rooms 1 -2 -3 \n",
    "# User can move between the rooms and request a description of each room\n",
    "# The user starts in room 1\n",
    "\n",
    "#Initialise the starting room\n",
    "room = 1\n",
    "\n",
    "while True:\n",
    " # Ask the user what they would like to do. If user types false input it returns to the start of the loop. Break option allows tester to quit the loop.\n",
    "    user_input = input(\"What would you like to do? (type move/describe or break to quit game)\")\n",
    "    if user_input.lower() == \"move\":\n",
    "        mode = 'move'\n",
    "    elif user_input.lower() == 'describe':\n",
    "        mode = \"describe\"  \n",
    "    elif user_input.lower() == \"break\":\n",
    "        break\n",
    "    else:\n",
    "        print(\"Please choose between move and describe\")\n",
    "        continue\n",
    "\n",
    "    if room == 1:\n",
    "        # Move function for room 1, you can only move forwards or backwards or in the describe function's output\n",
    "        # If you move in a direction that is possible, a continue command restarts the loop\n",
    "        \n",
    "        if mode == 'move':\n",
    "            user_direction = input('Would you like to move forwards or backwards?')\n",
    "            if user_direction.lower() == 'forwards':\n",
    "                print('You have moved to the next room')\n",
    "                room = 2\n",
    "                continue\n",
    "            elif user_direction.lower() == 'backwards':\n",
    "                print('You cannot move in that direction')\n",
    "            else:\n",
    "                print('Please choose forwards or backwards')\n",
    "\n",
    "        if mode == 'describe':\n",
    "            print('You are in a room with a beautiful range of tall plants')\n",
    "\n",
    "    if room == 2:\n",
    "        if mode == 'move':\n",
    "            user_direction = input('Would you like to move forwards or backwards')\n",
    "            if user_direction.lower() == 'forwards':\n",
    "                print('You have moved to the next room')\n",
    "                room = 3\n",
    "                continue\n",
    "            elif user_direction.lower() == 'backwards':\n",
    "                print('You have moved to the next room')\n",
    "                room = 1\n",
    "                continue\n",
    "            else:\n",
    "                print('Please choose forwards or backwards')\n",
    "        if mode == 'describe':\n",
    "            print('You are in a blue room with a rocking chair')\n",
    "\n",
    "    if room == 3:\n",
    "        if mode == 'move':\n",
    "            user_direction = input('Would you like to move forwards or backwards')\n",
    "            if user_direction.lower() == 'forwards':\n",
    "                print('You cannot move in that direction')\n",
    "            elif user_direction.lower() == 'backwards':\n",
    "                print('You have moved to the next room')\n",
    "                room = 2\n",
    "                continue\n",
    "            else:\n",
    "                print('Please choose forwards or backwards')\n",
    "        if mode == 'describe':\n",
    "            print('You are in an empty and cold red room')\n",
    "            \n",
    "\n",
    "        "
   ]
  }
 ],
 "metadata": {
  "kernelspec": {
   "display_name": "Python 3",
   "language": "python",
   "name": "python3"
  },
  "language_info": {
   "codemirror_mode": {
    "name": "ipython",
    "version": 3
   },
   "file_extension": ".py",
   "mimetype": "text/x-python",
   "name": "python",
   "nbconvert_exporter": "python",
   "pygments_lexer": "ipython3",
   "version": "3.12.6"
  }
 },
 "nbformat": 4,
 "nbformat_minor": 2
}
