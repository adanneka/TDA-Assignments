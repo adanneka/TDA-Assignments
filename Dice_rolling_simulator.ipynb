{
 "cells": [
  {
   "cell_type": "code",
   "execution_count": 4,
   "metadata": {},
   "outputs": [
    {
     "name": "stdout",
     "output_type": "stream",
     "text": [
      "You rolled 3\n",
      "You rolled 5\n",
      "Thank you for playing\n"
     ]
    }
   ],
   "source": [
    "## Simulation of rolling a dice\n",
    "## Generate a random number\n",
    "\n",
    "new_list = [1, 2, 3, 4, 5, 6]\n",
    "import random\n",
    "while True:\n",
    "    dice_number = random.choice(new_list)\n",
    "    ## This is the dice number\n",
    "    print(\"You rolled\", dice_number )\n",
    "    ## this gives user option to stop or continue\n",
    "    text = input(\"Do you want to continue? (yes/no)\")\n",
    "    if text == \"no\":\n",
    "        break\n",
    "print(\"Thank you for playing\")\n",
    "\n"
   ]
  }
 ],
 "metadata": {
  "kernelspec": {
   "display_name": "Python 3",
   "language": "python",
   "name": "python3"
  },
  "language_info": {
   "codemirror_mode": {
    "name": "ipython",
    "version": 3
   },
   "file_extension": ".py",
   "mimetype": "text/x-python",
   "name": "python",
   "nbconvert_exporter": "python",
   "pygments_lexer": "ipython3",
   "version": "3.12.6"
  }
 },
 "nbformat": 4,
 "nbformat_minor": 2
}
